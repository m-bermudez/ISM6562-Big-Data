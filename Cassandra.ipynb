{
 "cells": [
  {
   "cell_type": "code",
   "execution_count": 1,
   "metadata": {},
   "outputs": [
    {
     "ename": "RuntimeError",
     "evalue": "Environment variables ASTRA_DB_API_ENDPOINT and ASTRA_DB_APPLICATION_TOKEN must be defined",
     "output_type": "error",
     "traceback": [
      "\u001b[1;31m---------------------------------------------------------------------------\u001b[0m",
      "\u001b[1;31mRuntimeError\u001b[0m                              Traceback (most recent call last)",
      "Cell \u001b[1;32mIn[1], line 71\u001b[0m\n\u001b[0;32m     61\u001b[0m     upload_json_data(\n\u001b[0;32m     62\u001b[0m         collection,\n\u001b[0;32m     63\u001b[0m         \u001b[38;5;124m\"\u001b[39m\u001b[38;5;124m/Users/maui/Developer/Visual Studio Code/Python/ISM6562-Big-Data/quickstart_dataset.json\u001b[39m\u001b[38;5;124m\"\u001b[39m,\n\u001b[1;32m   (...)\u001b[0m\n\u001b[0;32m     67\u001b[0m         ),\n\u001b[0;32m     68\u001b[0m     )\n\u001b[0;32m     70\u001b[0m \u001b[38;5;28;01mif\u001b[39;00m \u001b[38;5;18m__name__\u001b[39m \u001b[38;5;241m==\u001b[39m \u001b[38;5;124m\"\u001b[39m\u001b[38;5;124m__main__\u001b[39m\u001b[38;5;124m\"\u001b[39m:\n\u001b[1;32m---> 71\u001b[0m     main()\n",
      "Cell \u001b[1;32mIn[1], line 57\u001b[0m, in \u001b[0;36mmain\u001b[1;34m()\u001b[0m\n\u001b[0;32m     56\u001b[0m \u001b[38;5;28;01mdef\u001b[39;00m \u001b[38;5;21mmain\u001b[39m() \u001b[38;5;241m-\u001b[39m\u001b[38;5;241m>\u001b[39m \u001b[38;5;28;01mNone\u001b[39;00m:\n\u001b[1;32m---> 57\u001b[0m     database \u001b[38;5;241m=\u001b[39m connect_to_database()\n\u001b[0;32m     59\u001b[0m     collection \u001b[38;5;241m=\u001b[39m create_collection(database, \u001b[38;5;124m\"\u001b[39m\u001b[38;5;124mquickstart_collection\u001b[39m\u001b[38;5;124m\"\u001b[39m)\n\u001b[0;32m     61\u001b[0m     upload_json_data(\n\u001b[0;32m     62\u001b[0m         collection,\n\u001b[0;32m     63\u001b[0m         \u001b[38;5;124m\"\u001b[39m\u001b[38;5;124m/Users/maui/Developer/Visual Studio Code/Python/ISM6562-Big-Data/quickstart_dataset.json\u001b[39m\u001b[38;5;124m\"\u001b[39m,\n\u001b[1;32m   (...)\u001b[0m\n\u001b[0;32m     67\u001b[0m         ),\n\u001b[0;32m     68\u001b[0m     )\n",
      "File \u001b[1;32mc:\\Developer\\Visual Studio Code\\Python\\ISM6562-Big-Data\\quickstart_connect.py:22\u001b[0m, in \u001b[0;36mconnect_to_database\u001b[1;34m()\u001b[0m\n\u001b[0;32m     19\u001b[0m token \u001b[38;5;241m=\u001b[39m os\u001b[38;5;241m.\u001b[39menviron\u001b[38;5;241m.\u001b[39mget(\u001b[38;5;124m\"\u001b[39m\u001b[38;5;124mASTRA_DB_APPLICATION_TOKEN\u001b[39m\u001b[38;5;124m\"\u001b[39m)\n\u001b[0;32m     21\u001b[0m \u001b[38;5;28;01mif\u001b[39;00m \u001b[38;5;129;01mnot\u001b[39;00m token \u001b[38;5;129;01mor\u001b[39;00m \u001b[38;5;129;01mnot\u001b[39;00m endpoint:\n\u001b[1;32m---> 22\u001b[0m     \u001b[38;5;28;01mraise\u001b[39;00m \u001b[38;5;167;01mRuntimeError\u001b[39;00m(\n\u001b[0;32m     23\u001b[0m         \u001b[38;5;124m\"\u001b[39m\u001b[38;5;124mEnvironment variables ASTRA_DB_API_ENDPOINT and ASTRA_DB_APPLICATION_TOKEN must be defined\u001b[39m\u001b[38;5;124m\"\u001b[39m\n\u001b[0;32m     24\u001b[0m     )\n\u001b[0;32m     26\u001b[0m \u001b[38;5;66;03m# Create an instance of the `DataAPIClient` class with your token.\u001b[39;00m\n\u001b[0;32m     27\u001b[0m client \u001b[38;5;241m=\u001b[39m DataAPIClient(token)\n",
      "\u001b[1;31mRuntimeError\u001b[0m: Environment variables ASTRA_DB_API_ENDPOINT and ASTRA_DB_APPLICATION_TOKEN must be defined"
     ]
    }
   ],
   "source": [
    "import json\n",
    "from astrapy import Database, Collection\n",
    "from astrapy.constants import VectorMetric\n",
    "from astrapy.info import CollectionVectorServiceOptions\n",
    "from quickstart_connect import connect_to_database\n",
    "\n",
    "\n",
    "def create_collection(database: Database, collection_name: str) -> Collection:\n",
    "    \n",
    "    collection = database.create_collection(\n",
    "        collection_name,\n",
    "        metric=VectorMetric.COSINE,\n",
    "        service=CollectionVectorServiceOptions(\n",
    "            provider=\"nvidia\",\n",
    "            model_name=\"NV-Embed-QA\",\n",
    "        ),\n",
    "    )\n",
    "\n",
    "    print(f\"Created collection {collection.full_name}\")\n",
    "\n",
    "    return collection\n",
    "\n",
    "\n",
    "def upload_json_data(\n",
    "    collection: Collection,\n",
    "    data_file_path: str,\n",
    "    embedding_string_creator: callable,\n",
    ") -> None:\n",
    "    \"\"\"\n",
    "     Uploads data from a file containing a JSON array to the specified collection.\n",
    "     For each piece of data, a $vectorize field is added. The $vectorize value is\n",
    "     a string from which vector embeddings will be generated.\n",
    "\n",
    "    Args:\n",
    "        collection (Collection): The instantiated object that represents the collection to upload data to.\n",
    "        data_file_path (str): The path to a JSON file containing a JSON array.\n",
    "        embedding_string_creator (callable): A function to create the string for which vector embeddings will be generated.\n",
    "    \"\"\"\n",
    "    # Read the JSON file and parse it into a JSON array.\n",
    "    with open(data_file_path, \"r\", encoding=\"utf8\") as file:\n",
    "        json_data = json.load(file)\n",
    "\n",
    "    # Add a $vectorize field to each piece of data.\n",
    "    documents = [\n",
    "        {\n",
    "            **data,\n",
    "            \"$vectorize\": embedding_string_creator(data),\n",
    "        }\n",
    "        for data in json_data\n",
    "    ]\n",
    "\n",
    "    # Upload the data.\n",
    "    inserted = collection.insert_many(documents)\n",
    "    print(f\"Inserted {len(inserted.inserted_ids)} items.\")\n",
    "\n",
    "def main() -> None:\n",
    "    database = connect_to_database()\n",
    "\n",
    "    collection = create_collection(database, \"quickstart_collection\")\n",
    "\n",
    "    upload_json_data(\n",
    "        collection,\n",
    "        \"/Users/maui/Developer/Visual Studio Code/Python/ISM6562-Big-Data/quickstart_dataset.json\",\n",
    "        lambda data: (\n",
    "            f\"summary: {data['summary']} | \"\n",
    "            f\"genres: {', '.join(data['genres'])}\"\n",
    "        ),\n",
    "    )\n",
    "\n",
    "if __name__ == \"__main__\":\n",
    "    main()"
   ]
  }
 ],
 "metadata": {
  "kernelspec": {
   "display_name": "base",
   "language": "python",
   "name": "python3"
  },
  "language_info": {
   "codemirror_mode": {
    "name": "ipython",
    "version": 3
   },
   "file_extension": ".py",
   "mimetype": "text/x-python",
   "name": "python",
   "nbconvert_exporter": "python",
   "pygments_lexer": "ipython3",
   "version": "3.12.7"
  }
 },
 "nbformat": 4,
 "nbformat_minor": 2
}
