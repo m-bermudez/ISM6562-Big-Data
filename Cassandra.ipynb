{
 "cells": [
  {
   "cell_type": "code",
   "execution_count": 1,
   "metadata": {},
   "outputs": [
    {
     "name": "stdout",
     "output_type": "stream",
     "text": [
      "Connected to database Cassie2\n",
      "Created collection default_keyspace.quickstart_collection\n",
      "Inserted 100 items.\n"
     ]
    }
   ],
   "source": [
    "import json\n",
    "from astrapy import Database, Collection\n",
    "from astrapy.constants import VectorMetric\n",
    "from astrapy.info import CollectionVectorServiceOptions\n",
    "from quickstart_connect import connect_to_database\n",
    "\n",
    "\n",
    "def create_collection(database: Database, collection_name: str) -> Collection:\n",
    "    \n",
    "    collection = database.create_collection(\n",
    "        collection_name,\n",
    "        metric=VectorMetric.COSINE,\n",
    "        service=CollectionVectorServiceOptions(\n",
    "            provider=\"nvidia\",\n",
    "            model_name=\"NV-Embed-QA\",\n",
    "        ),\n",
    "    )\n",
    "\n",
    "    print(f\"Created collection {collection.full_name}\")\n",
    "\n",
    "    return collection\n",
    "\n",
    "\n",
    "def upload_json_data(\n",
    "    collection: Collection,\n",
    "    data_file_path: str,\n",
    "    embedding_string_creator: callable,\n",
    ") -> None:\n",
    "    \"\"\"\n",
    "     Uploads data from a file containing a JSON array to the specified collection.\n",
    "     For each piece of data, a $vectorize field is added. The $vectorize value is\n",
    "     a string from which vector embeddings will be generated.\n",
    "\n",
    "    Args:\n",
    "        collection (Collection): The instantiated object that represents the collection to upload data to.\n",
    "        data_file_path (str): The path to a JSON file containing a JSON array.\n",
    "        embedding_string_creator (callable): A function to create the string for which vector embeddings will be generated.\n",
    "    \"\"\"\n",
    "    # Read the JSON file and parse it into a JSON array.\n",
    "    with open(data_file_path, \"r\", encoding=\"utf8\") as file:\n",
    "        json_data = json.load(file)\n",
    "\n",
    "    # Add a $vectorize field to each piece of data.\n",
    "    documents = [\n",
    "        {\n",
    "            **data,\n",
    "            \"$vectorize\": embedding_string_creator(data),\n",
    "        }\n",
    "        for data in json_data\n",
    "    ]\n",
    "\n",
    "    # Upload the data.\n",
    "    inserted = collection.insert_many(documents)\n",
    "    print(f\"Inserted {len(inserted.inserted_ids)} items.\")\n",
    "\n",
    "def main() -> None:\n",
    "    database = connect_to_database()\n",
    "\n",
    "    collection = create_collection(database, \"quickstart_collection\")\n",
    "\n",
    "    upload_json_data(\n",
    "        collection,\n",
    "        \"/Users/maui/Developer/Visual Studio Code/Python/ISM6562-Big-Data/quickstart_dataset.json\",\n",
    "        lambda data: (\n",
    "            f\"summary: {data['summary']} | \"\n",
    "            f\"genres: {', '.join(data['genres'])}\"\n",
    "        ),\n",
    "    )\n",
    "\n",
    "if __name__ == \"__main__\":\n",
    "    main()"
   ]
  }
 ],
 "metadata": {
  "kernelspec": {
   "display_name": "base",
   "language": "python",
   "name": "python3"
  },
  "language_info": {
   "codemirror_mode": {
    "name": "ipython",
    "version": 3
   },
   "file_extension": ".py",
   "mimetype": "text/x-python",
   "name": "python",
   "nbconvert_exporter": "python",
   "pygments_lexer": "ipython3",
   "version": "3.12.9"
  }
 },
 "nbformat": 4,
 "nbformat_minor": 2
}
